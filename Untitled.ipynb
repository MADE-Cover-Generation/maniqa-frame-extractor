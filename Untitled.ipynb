{
 "cells": [
  {
   "cell_type": "code",
   "execution_count": 1,
   "metadata": {},
   "outputs": [],
   "source": [
    "import torch\n",
    "import cv2\n",
    "import numpy as np\n",
    "from torchvision import transforms\n",
    "from utils.inference_process import Normalize, RandHorizontalFlip, ToTensor"
   ]
  },
  {
   "cell_type": "code",
   "execution_count": 2,
   "metadata": {},
   "outputs": [],
   "source": [
    "crop_size = 224"
   ]
  },
  {
   "cell_type": "code",
   "execution_count": 3,
   "metadata": {},
   "outputs": [],
   "source": [
    "class GELU(torch.nn.Module):\n",
    "    def forward(self, input: torch.Tensor) -> torch.Tensor:\n",
    "        return torch.nn.functional.gelu(input)\n",
    "torch.nn.modules.activation.GELU = GELU"
   ]
  },
  {
   "cell_type": "code",
   "execution_count": 4,
   "metadata": {},
   "outputs": [],
   "source": [
    "path = \"A0001_00_00.bmp\"\n",
    "model_path = \"ckpt_valid\"\n",
    "\n",
    "def prepare(path):\n",
    "    d_img = cv2.imread(path, cv2.IMREAD_COLOR)\n",
    "    d_img = cv2.cvtColor(d_img, cv2.COLOR_BGR2RGB)\n",
    "    d_img = np.array(d_img).astype('float32') / 255\n",
    "    d_img = np.transpose(d_img, (2, 0, 1))\n",
    "    sample = {\n",
    "        'd_img_org': d_img,\n",
    "        'd_name': path\n",
    "    }\n",
    "    transform = transforms.Compose([Normalize(0.5, 0.5), ToTensor()])\n",
    "    sample = transform(sample)\n",
    "    return sample\n",
    "\n",
    "def random_crop(d_img):\n",
    "    c, h, w = d_img.shape\n",
    "    top = np.random.randint(0, h - crop_size)\n",
    "    left = np.random.randint(0, w - crop_size)\n",
    "    d_img_org = crop_image(top, left, crop_size, img=d_img)\n",
    "    d_img_org = d_img_org[None, :]\n",
    "    return d_img_org\n",
    "\n",
    "\n",
    "def crop_image(top, left, patch_size, img=None):\n",
    "    tmp_img = img[:, top:top + patch_size, left:left + patch_size]\n",
    "    return tmp_img"
   ]
  },
  {
   "cell_type": "code",
   "execution_count": 5,
   "metadata": {},
   "outputs": [],
   "source": [
    "net = torch.load(model_path)"
   ]
  },
  {
   "cell_type": "code",
   "execution_count": 6,
   "metadata": {},
   "outputs": [],
   "source": [
    "def infrence(data):\n",
    "    net.eval()\n",
    "    x_d = data['d_img_org'].cuda()\n",
    "    x_d = random_crop(x_d)\n",
    "    return net(x_d)"
   ]
  },
  {
   "cell_type": "code",
   "execution_count": 7,
   "metadata": {
    "scrolled": true
   },
   "outputs": [
    {
     "data": {
      "text/plain": [
       "tensor([0.5807], device='cuda:0', grad_fn=<CatBackward0>)"
      ]
     },
     "execution_count": 7,
     "metadata": {},
     "output_type": "execute_result"
    }
   ],
   "source": [
    "infrence(prepare(path))"
   ]
  },
  {
   "cell_type": "code",
   "execution_count": null,
   "metadata": {},
   "outputs": [],
   "source": []
  }
 ],
 "metadata": {
  "kernelspec": {
   "display_name": "Python [conda env:torch]",
   "language": "python",
   "name": "conda-env-torch-py"
  },
  "language_info": {
   "codemirror_mode": {
    "name": "ipython",
    "version": 3
   },
   "file_extension": ".py",
   "mimetype": "text/x-python",
   "name": "python",
   "nbconvert_exporter": "python",
   "pygments_lexer": "ipython3",
   "version": "3.8.12"
  }
 },
 "nbformat": 4,
 "nbformat_minor": 2
}
